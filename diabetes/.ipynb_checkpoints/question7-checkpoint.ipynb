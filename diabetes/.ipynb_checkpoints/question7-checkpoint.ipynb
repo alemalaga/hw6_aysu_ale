{
 "cells": [
  {
   "cell_type": "code",
   "execution_count": 6,
   "metadata": {},
   "outputs": [
    {
     "data": {
      "text/plain": [
       "0.25"
      ]
     },
     "execution_count": 6,
     "metadata": {},
     "output_type": "execute_result"
    }
   ],
   "source": [
    "from violet.hw6 import Patient\n",
    "example = Patient(\"mark\", [\"fever\", \"cough\"])\n",
    "example.add_test(\"blood_count\", [123,456,789])\n",
    "example.add_test(\"pressure\", [534,23,76])\n",
    "example.tests\n",
    "example.has_covid()\n"
   ]
  },
  {
   "cell_type": "code",
   "execution_count": 8,
   "metadata": {},
   "outputs": [],
   "source": [
    "import pandas as pd\n",
    "from model import Model\n",
    "from preprocessor import Preprocessor\n",
    "from transform import Transform, Standardize, Polynomial\n",
    "from diabets_data import Standardize\n",
    "from diabets_data import SplitClass"
   ]
  },
  {
   "cell_type": "code",
   "execution_count": 4,
   "metadata": {},
   "outputs": [],
   "source": [
    "name = \"sample_diabetes_mellitus_data.csv\"\n",
    "example = SplitClass(name)\n",
    "train_data,test_data=example.train_test(0.1)"
   ]
  },
  {
   "cell_type": "code",
   "execution_count": 6,
   "metadata": {},
   "outputs": [],
   "source": [
    "data_prep = Preprocessor(train_data)\n",
    "data_prep.clean_nan(['age', 'gender', 'ethnicity'])\n",
    "data_prep.fill_nan(['height', 'weight'])\n"
   ]
  },
  {
   "cell_type": "code",
   "execution_count": 9,
   "metadata": {},
   "outputs": [],
   "source": [
    "numeric_data = test_data.select_dtypes(include = ['float', 'int']).dropna()\n",
    "test_standardize = Standardize(numeric_data)\n",
    "answ_standardize = test_standardize.change()\n",
    "test_polynomial = Polynomial(numeric_data)\n",
    "answ_polynomial = test_polynomial.change(2)   \n"
   ]
  },
  {
   "cell_type": "code",
   "execution_count": 11,
   "metadata": {},
   "outputs": [
    {
     "data": {
      "text/plain": [
       "array([0.42262765, 0.31488185, 0.31532234, 0.1503573 , 0.19013131,\n",
       "       0.38344921, 0.24462001, 0.27868486, 0.19983548, 0.34885935,\n",
       "       0.21723057, 0.14383177, 0.21812744, 0.08149262, 0.2517735 ,\n",
       "       0.45454871, 0.15368294, 0.17646444, 0.1642269 ])"
      ]
     },
     "execution_count": 11,
     "metadata": {},
     "output_type": "execute_result"
    }
   ],
   "source": [
    "features = ['age', 'height', 'weight', 'aids', 'cirrhosis', 'hepatic_failure',\n",
    "            'immunosuppression', 'leukemia', 'lymphoma', 'solid_tumor_with_metastasis']\n",
    "target = ['diabetes_mellitus']\n",
    "test_model = Model(features, target, 500)\n",
    "test_model.train(train_data)\n",
    "test_model.predict(test_data.dropna())\n"
   ]
  },
  {
   "cell_type": "code",
   "execution_count": null,
   "metadata": {},
   "outputs": [],
   "source": []
  }
 ],
 "metadata": {
  "kernelspec": {
   "display_name": "Python 3",
   "language": "python",
   "name": "python3"
  },
  "language_info": {
   "codemirror_mode": {
    "name": "ipython",
    "version": 3
   },
   "file_extension": ".py",
   "mimetype": "text/x-python",
   "name": "python",
   "nbconvert_exporter": "python",
   "pygments_lexer": "ipython3",
   "version": "3.8.8"
  },
  "toc": {
   "base_numbering": 1,
   "nav_menu": {},
   "number_sections": true,
   "sideBar": true,
   "skip_h1_title": false,
   "title_cell": "Table of Contents",
   "title_sidebar": "Contents",
   "toc_cell": false,
   "toc_position": {},
   "toc_section_display": true,
   "toc_window_display": false
  }
 },
 "nbformat": 4,
 "nbformat_minor": 4
}
