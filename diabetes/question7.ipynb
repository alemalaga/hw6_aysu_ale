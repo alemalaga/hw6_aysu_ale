{
 "cells": [
  {
   "cell_type": "code",
   "execution_count": 1,
   "metadata": {},
   "outputs": [],
   "source": [
    "import pandas as pd\n",
    "from violet.model import Model\n",
    "from violet.preprocessor import Preprocessor\n",
    "from violet.transform import Transform, Standardize, Polynomial\n",
    "from violet.split import SplitClass"
   ]
  },
  {
   "cell_type": "code",
   "execution_count": 2,
   "metadata": {},
   "outputs": [],
   "source": [
    "name = \"sample_diabetes_mellitus_data.csv\"\n",
    "example = SplitClass(name)\n",
    "train_data,test_data=example.train_test(0.1)"
   ]
  },
  {
   "cell_type": "code",
   "execution_count": 3,
   "metadata": {},
   "outputs": [],
   "source": [
    "data_prep = Preprocessor(train_data)\n",
    "data_prep.clean_nan(['age', 'gender', 'ethnicity'])\n",
    "data_prep.fill_nan(['height', 'weight'])\n"
   ]
  },
  {
   "cell_type": "code",
   "execution_count": 4,
   "metadata": {},
   "outputs": [],
   "source": [
    "numeric_data = test_data.select_dtypes(include = ['float', 'int']).dropna()\n",
    "test_standardize = Standardize(numeric_data)\n",
    "answ_standardize = test_standardize.change()\n",
    "test_polynomial = Polynomial(numeric_data)\n",
    "answ_polynomial = test_polynomial.change(2)   \n"
   ]
  },
  {
   "cell_type": "code",
   "execution_count": 5,
   "metadata": {},
   "outputs": [
    {
     "data": {
      "text/plain": [
       "array([0.21489239, 0.38563412, 0.25169352, 0.27367379, 0.38551896,\n",
       "       0.286958  , 0.43137295, 0.21655579, 0.14077947, 0.24883768,\n",
       "       0.1604689 , 0.44497421, 0.22130571, 0.08855724, 0.10528408,\n",
       "       0.39752567, 0.19099493, 0.12963178, 0.29059082, 0.1467474 ,\n",
       "       0.20975052])"
      ]
     },
     "execution_count": 5,
     "metadata": {},
     "output_type": "execute_result"
    }
   ],
   "source": [
    "features = ['age', 'height', 'weight', 'aids', 'cirrhosis', 'hepatic_failure',\n",
    "            'immunosuppression', 'leukemia', 'lymphoma', 'solid_tumor_with_metastasis']\n",
    "target = ['diabetes_mellitus']\n",
    "test_model = Model(features, target, 500)\n",
    "test_model.train(train_data)\n",
    "test_model.predict(test_data.dropna())\n"
   ]
  },
  {
   "cell_type": "code",
   "execution_count": null,
   "metadata": {},
   "outputs": [],
   "source": []
  }
 ],
 "metadata": {
  "kernelspec": {
   "display_name": "Python 3",
   "language": "python",
   "name": "python3"
  },
  "language_info": {
   "codemirror_mode": {
    "name": "ipython",
    "version": 3
   },
   "file_extension": ".py",
   "mimetype": "text/x-python",
   "name": "python",
   "nbconvert_exporter": "python",
   "pygments_lexer": "ipython3",
   "version": "3.8.3"
  },
  "toc": {
   "base_numbering": 1,
   "nav_menu": {},
   "number_sections": true,
   "sideBar": true,
   "skip_h1_title": false,
   "title_cell": "Table of Contents",
   "title_sidebar": "Contents",
   "toc_cell": false,
   "toc_position": {},
   "toc_section_display": true,
   "toc_window_display": false
  }
 },
 "nbformat": 4,
 "nbformat_minor": 4
}
