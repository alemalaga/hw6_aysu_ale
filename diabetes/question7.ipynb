{
 "cells": [
  {
   "cell_type": "code",
   "execution_count": 1,
   "metadata": {},
   "outputs": [
    {
     "data": {
      "text/plain": [
       "0.25"
      ]
     },
     "execution_count": 1,
     "metadata": {},
     "output_type": "execute_result"
    }
   ],
   "source": [
    "from violet.hw6 import Patient\n",
    "example = Patient(\"mark\", [\"fever\", \"cough\"])\n",
    "example.add_test(\"blood_count\", [123,456,789])\n",
    "example.add_test(\"pressure\", [534,23,76])\n",
    "example.tests\n",
    "example.has_covid()\n"
   ]
  },
  {
   "cell_type": "code",
   "execution_count": 4,
   "metadata": {},
   "outputs": [],
   "source": [
    "import pandas as pd\n",
    "from violet.model import Model\n",
    "from violet.preprocessor import Preprocessor\n",
    "from violet.transform import Transform, Standardize, Polynomial\n",
    "from violet.split import SplitClass"
   ]
  },
  {
   "cell_type": "code",
   "execution_count": 5,
   "metadata": {},
   "outputs": [],
   "source": [
    "name = \"sample_diabetes_mellitus_data.csv\"\n",
    "example = SplitClass(name)\n",
    "train_data,test_data=example.train_test(0.1)"
   ]
  },
  {
   "cell_type": "code",
   "execution_count": 6,
   "metadata": {},
   "outputs": [],
   "source": [
    "data_prep = Preprocessor(train_data)\n",
    "data_prep.clean_nan(['age', 'gender', 'ethnicity'])\n",
    "data_prep.fill_nan(['height', 'weight'])\n"
   ]
  },
  {
   "cell_type": "code",
   "execution_count": 7,
   "metadata": {},
   "outputs": [],
   "source": [
    "numeric_data = test_data.select_dtypes(include = ['float', 'int']).dropna()\n",
    "test_standardize = Standardize(numeric_data)\n",
    "answ_standardize = test_standardize.change()\n",
    "test_polynomial = Polynomial(numeric_data)\n",
    "answ_polynomial = test_polynomial.change(2)   \n"
   ]
  },
  {
   "cell_type": "code",
   "execution_count": 8,
   "metadata": {},
   "outputs": [
    {
     "data": {
      "text/plain": [
       "array([0.07383846, 0.53813887, 0.14058272, 0.16309071, 0.13725835,\n",
       "       0.19468829, 0.33068549, 0.28399999, 0.22561986, 0.26434914,\n",
       "       0.423469  , 0.23180697, 0.16946379, 0.22245388, 0.47020589,\n",
       "       0.10908204, 0.23769696, 0.17216317, 0.11906213, 0.34719067,\n",
       "       0.15868349, 0.27138633])"
      ]
     },
     "execution_count": 8,
     "metadata": {},
     "output_type": "execute_result"
    }
   ],
   "source": [
    "features = ['age', 'height', 'weight', 'aids', 'cirrhosis', 'hepatic_failure',\n",
    "            'immunosuppression', 'leukemia', 'lymphoma', 'solid_tumor_with_metastasis']\n",
    "target = ['diabetes_mellitus']\n",
    "test_model = Model(features, target, 500)\n",
    "test_model.train(train_data)\n",
    "test_model.predict(test_data.dropna())\n"
   ]
  },
  {
   "cell_type": "code",
   "execution_count": null,
   "metadata": {},
   "outputs": [],
   "source": []
  }
 ],
 "metadata": {
  "kernelspec": {
   "display_name": "Python 3",
   "language": "python",
   "name": "python3"
  },
  "language_info": {
   "codemirror_mode": {
    "name": "ipython",
    "version": 3
   },
   "file_extension": ".py",
   "mimetype": "text/x-python",
   "name": "python",
   "nbconvert_exporter": "python",
   "pygments_lexer": "ipython3",
   "version": "3.8.3"
  },
  "toc": {
   "base_numbering": 1,
   "nav_menu": {},
   "number_sections": true,
   "sideBar": true,
   "skip_h1_title": false,
   "title_cell": "Table of Contents",
   "title_sidebar": "Contents",
   "toc_cell": false,
   "toc_position": {},
   "toc_section_display": true,
   "toc_window_display": false
  }
 },
 "nbformat": 4,
 "nbformat_minor": 4
}
